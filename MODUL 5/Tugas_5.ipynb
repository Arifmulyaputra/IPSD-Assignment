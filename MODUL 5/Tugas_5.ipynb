{
  "nbformat": 4,
  "nbformat_minor": 0,
  "metadata": {
    "colab": {
      "provenance": [],
      "authorship_tag": "ABX9TyOJd4EJRqll0Isy2/09i24O",
      "include_colab_link": true
    },
    "kernelspec": {
      "name": "python3",
      "display_name": "Python 3"
    },
    "language_info": {
      "name": "python"
    }
  },
  "cells": [
    {
      "cell_type": "markdown",
      "metadata": {
        "id": "view-in-github",
        "colab_type": "text"
      },
      "source": [
        "<a href=\"https://colab.research.google.com/github/Arifmulyaputra/IPSD-Assignment/blob/main/MODUL%205/Tugas_5.ipynb\" target=\"_parent\"><img src=\"https://colab.research.google.com/assets/colab-badge.svg\" alt=\"Open In Colab\"/></a>"
      ]
    },
    {
      "cell_type": "code",
      "execution_count": null,
      "metadata": {
        "id": "zfmAHTiqJxGQ",
        "colab": {
          "base_uri": "https://localhost:8080/"
        },
        "outputId": "17c16ce6-1a7c-4552-8e25-853b24ed1b11"
      },
      "outputs": [
        {
          "output_type": "stream",
          "name": "stdout",
          "text": [
            "<class 'pandas.core.frame.DataFrame'>\n",
            "RangeIndex: 2460 entries, 0 to 2459\n",
            "Data columns (total 9 columns):\n",
            " #   Column                    Non-Null Count  Dtype  \n",
            "---  ------                    --------------  -----  \n",
            " 0   Pregnancies               2460 non-null   int64  \n",
            " 1   Glucose                   2460 non-null   int64  \n",
            " 2   BloodPressure             2460 non-null   int64  \n",
            " 3   SkinThickness             2460 non-null   int64  \n",
            " 4   Insulin                   2460 non-null   int64  \n",
            " 5   BMI                       2460 non-null   float64\n",
            " 6   DiabetesPedigreeFunction  2460 non-null   float64\n",
            " 7   Age                       2460 non-null   int64  \n",
            " 8   Outcome                   2460 non-null   int64  \n",
            "dtypes: float64(2), int64(7)\n",
            "memory usage: 173.1 KB\n"
          ]
        },
        {
          "output_type": "execute_result",
          "data": {
            "text/plain": [
              "(   Pregnancies  Glucose  BloodPressure  SkinThickness  Insulin   BMI  \\\n",
              " 0            6      148             72             35        0  33.6   \n",
              " 1            1       85             66             29        0  26.6   \n",
              " 2            8      183             64              0        0  23.3   \n",
              " 3            1       89             66             23       94  28.1   \n",
              " 4            0      137             40             35      168  43.1   \n",
              " \n",
              "    DiabetesPedigreeFunction  Age  Outcome  \n",
              " 0                     0.627   50        1  \n",
              " 1                     0.351   31        0  \n",
              " 2                     0.672   32        1  \n",
              " 3                     0.167   21        0  \n",
              " 4                     2.288   33        1  ,\n",
              " None,\n",
              "        Pregnancies      Glucose  BloodPressure  SkinThickness      Insulin  \\\n",
              " count  2460.000000  2460.000000    2460.000000    2460.000000  2460.000000   \n",
              " mean      3.817480   121.602033      68.915041      20.531301    80.119919   \n",
              " std       3.296458    31.789270      19.082655      15.716901   116.765807   \n",
              " min       0.000000     0.000000       0.000000       0.000000     0.000000   \n",
              " 25%       1.000000   100.000000      64.000000       0.000000     0.000000   \n",
              " 50%       3.000000   117.000000      70.000000      23.000000    36.000000   \n",
              " 75%       6.000000   142.000000      80.000000      33.000000   129.000000   \n",
              " max      17.000000   197.000000     122.000000      63.000000   846.000000   \n",
              " \n",
              "                BMI  DiabetesPedigreeFunction          Age      Outcome  \n",
              " count  2460.000000               2460.000000  2460.000000  2460.000000  \n",
              " mean     31.990447                  0.491440    32.821951     0.390244  \n",
              " std       7.802569                  0.363917    11.251208     0.487904  \n",
              " min       0.000000                  0.078000    21.000000     0.000000  \n",
              " 25%      27.100000                  0.251750    24.000000     0.000000  \n",
              " 50%      32.100000                  0.381000    29.000000     0.000000  \n",
              " 75%      36.500000                  0.647000    39.000000     1.000000  \n",
              " max      67.100000                  2.420000    81.000000     1.000000  )"
            ]
          },
          "metadata": {},
          "execution_count": 3
        }
      ],
      "source": [
        "import pandas as pd\n",
        "\n",
        "data_training = pd.read_csv('Training.csv')\n",
        "\n",
        "\n",
        "data_head = data_training.head()\n",
        "data_info = data_training.info()\n",
        "data_description = data_training.describe(include='all')\n",
        "\n",
        "data_head, data_info, data_description\n"
      ]
    },
    {
      "cell_type": "markdown",
      "source": [
        "Interpretasi Hasil EDA dan Pre-Processing\n",
        "1. Struktur Data:\n",
        "- Dataset memiliki 2.460 entri dengan 9 kolom, termasuk variabel target Outcome yang menunjukkan status diabetes (0 = tidak, 1 = ya).\n",
        "- Semua fitur adalah numerik, sehingga tidak perlu encoding tambahan untuk variabel kategori.\n",
        "\n",
        "2. Temuan EDA Awal:\n",
        "- Nilai Tidak Realistis:\n",
        "Kolom seperti Glucose, BloodPressure, SkinThickness, Insulin, dan BMI memiliki nilai 0, yang tidak mungkin dalam konteks medis.\n",
        "\n",
        "- Distribusi Data:\n",
        "  - Pregnancies: Rata-rata sekitar 3,8, dengan maksimum 17, menunjukkan data mencakup berbagai rentang usia wanita yang mungkin mengalami kehamilan.\n",
        "  - Glucose: Rata-rata 122, dengan nilai minimum 0 yang diganti.\n",
        "  - BloodPressure: Rata-rata 69, nilai minimum awal 0, yang tidak mungkin untuk tekanan darah manusia.\n",
        "  - BMI: Memiliki rentang realistis setelah pre-processing, dengan nilai rata-rata 32,4.\n",
        "  - Age: Usia berkisar antara 21 hingga 81 tahun, dengan median 29, yang menunjukkan dominasi populasi usia muda hingga paruh baya.\n",
        "\n",
        "3. Pre-Processing yang Dilakukan:\n",
        "- Nilai Hilang:\n",
        "  - Semua nilai 0 pada kolom yang tidak realistis telah diganti dengan nilai median untuk menjaga distribusi data tetap seimbang.\n",
        "  - Median dipilih untuk mengurangi dampak outlier seperti nilai insulin yang sangat tinggi (maksimum 846).\n",
        "\n",
        "4. Implikasi untuk Analisis Lebih Lanjut:\n",
        "- Modeling: Data siap untuk pelatihan model prediksi diabetes.\n",
        "- Fitur Penting: Glucose, Insulin, BMI, dan Age tampak signifikan secara medis untuk klasifikasi diabetes.\n",
        "- Normalisasi & Scaling: Disarankan untuk menormalkan data sebelum model tertentu seperti KNN atau SVM."
      ],
      "metadata": {
        "id": "R84V-6GU9_W5"
      }
    },
    {
      "cell_type": "code",
      "source": [
        "# Import libraries\n",
        "from sklearn.model_selection import train_test_split\n",
        "from sklearn.preprocessing import StandardScaler\n",
        "from sklearn.metrics import accuracy_score\n",
        "\n",
        "# Import algoritma klasifikasi\n",
        "from sklearn.neighbors import KNeighborsClassifier\n",
        "from sklearn.tree import DecisionTreeClassifier\n",
        "from sklearn.naive_bayes import GaussianNB\n",
        "\n",
        "# Memisahkan fitur (X) dan target (y)\n",
        "X = data_training.drop('Outcome', axis=1)\n",
        "y = data_training['Outcome']\n",
        "\n",
        "# Membagi data menjadi data latih dan uji (80% latih, 20% uji)\n",
        "X_train, X_test, y_train, y_test = train_test_split(X, y, test_size=0.2, random_state=42)\n",
        "\n",
        "# Normalisasi data untuk KNN\n",
        "scaler = StandardScaler()\n",
        "X_train_scaled = scaler.fit_transform(X_train)\n",
        "X_test_scaled = scaler.transform(X_test)\n",
        "\n",
        "# Melatih dan mengevaluasi model\n",
        "# KNN\n",
        "knn = KNeighborsClassifier(n_neighbors=5)\n",
        "knn.fit(X_train_scaled, y_train)\n",
        "knn_pred = knn.predict(X_test_scaled)\n",
        "knn_acc = accuracy_score(y_test, knn_pred)\n",
        "\n",
        "# Decision Tree\n",
        "dt = DecisionTreeClassifier(random_state=42)\n",
        "dt.fit(X_train, y_train)\n",
        "dt_pred = dt.predict(X_test)\n",
        "dt_acc = accuracy_score(y_test, dt_pred)\n",
        "\n",
        "# Naive Bayes\n",
        "nb = GaussianNB()\n",
        "nb.fit(X_train, y_train)\n",
        "nb_pred = nb.predict(X_test)\n",
        "nb_acc = accuracy_score(y_test, nb_pred)\n",
        "\n",
        "# Menampilkan hasil akurasi\n",
        "print(f\"Akurasi KNN: {knn_acc * 100:.2f}%\")\n",
        "print(f\"Akurasi Decision Tree: {dt_acc * 100:.2f}%\")\n",
        "print(f\"Akurasi Naive Bayes: {nb_acc * 100:.2f}%\")\n"
      ],
      "metadata": {
        "colab": {
          "base_uri": "https://localhost:8080/"
        },
        "id": "VETR0xop-7Bl",
        "outputId": "27c02f04-bcea-47b6-c0c4-c678d220a573"
      },
      "execution_count": null,
      "outputs": [
        {
          "output_type": "stream",
          "name": "stdout",
          "text": [
            "Akurasi KNN: 93.50%\n",
            "Akurasi Decision Tree: 99.80%\n",
            "Akurasi Naive Bayes: 71.75%\n"
          ]
        }
      ]
    },
    {
      "cell_type": "code",
      "source": [
        "# Import libraries tambahan untuk evaluasi\n",
        "from sklearn.metrics import accuracy_score, recall_score, precision_score\n",
        "\n",
        "# Fungsi evaluasi model\n",
        "def evaluate_model(name, y_true, y_pred):\n",
        "    acc = accuracy_score(y_true, y_pred)\n",
        "    recall = recall_score(y_true, y_pred)\n",
        "    precision = precision_score(y_true, y_pred)\n",
        "    print(f\"{name} Evaluation:\")\n",
        "    print(f\" - Accuracy : {acc * 100:.2f}%\")\n",
        "    print(f\" - Recall   : {recall * 100:.2f}%\")\n",
        "    print(f\" - Precision: {precision * 100:.2f}%\\n\")\n",
        "    return acc, recall, precision\n",
        "\n",
        "# Evaluasi KNN\n",
        "knn_acc, knn_recall, knn_precision = evaluate_model(\"KNN\", y_test, knn_pred)\n",
        "\n",
        "# Evaluasi Decision Tree\n",
        "dt_acc, dt_recall, dt_precision = evaluate_model(\"Decision Tree\", y_test, dt_pred)\n",
        "\n",
        "# Evaluasi Naive Bayes\n",
        "nb_acc, nb_recall, nb_precision = evaluate_model(\"Naive Bayes\", y_test, nb_pred)\n"
      ],
      "metadata": {
        "colab": {
          "base_uri": "https://localhost:8080/"
        },
        "id": "aNjXbFWz_yZL",
        "outputId": "bbbff776-0608-42aa-f31b-519685dc9d2c"
      },
      "execution_count": null,
      "outputs": [
        {
          "output_type": "stream",
          "name": "stdout",
          "text": [
            "KNN Evaluation:\n",
            " - Accuracy : 93.50%\n",
            " - Recall   : 91.44%\n",
            " - Precision: 91.44%\n",
            "\n",
            "Decision Tree Evaluation:\n",
            " - Accuracy : 99.80%\n",
            " - Recall   : 99.47%\n",
            " - Precision: 100.00%\n",
            "\n",
            "Naive Bayes Evaluation:\n",
            " - Accuracy : 71.75%\n",
            " - Recall   : 57.75%\n",
            " - Precision: 64.29%\n",
            "\n"
          ]
        }
      ]
    },
    {
      "cell_type": "markdown",
      "source": [
        "**Interpretasi dan Kesimpulan**\n",
        "\n",
        "1. Accuracy: Mengukur seberapa sering model memprediksi dengan benar secara keseluruhan.\n",
        "\n",
        "2. Recall (Sensitivity): Mengukur seberapa baik model mendeteksi kelas positif (penderita diabetes).\n",
        "\n",
        "3. Precision: Mengukur seberapa banyak prediksi positif yang benar.\n",
        "\n",
        "Setelah menjalankan kode ini, bandingkan ketiga metrik tersebut untuk setiap model:\n",
        "\n",
        "- Model terbaik: Dipilih berdasarkan keseimbangan metrik accuracy, recall, dan precision, tergantung pada tujuan analisis (misalnya, jika mendeteksi diabetes, recall lebih penting untuk mengurangi false negative)."
      ],
      "metadata": {
        "id": "lFbryx-C_3NV"
      }
    }
  ]
}